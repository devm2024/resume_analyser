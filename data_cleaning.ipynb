{
 "cells": [
  {
   "cell_type": "code",
   "execution_count": 171,
   "metadata": {
    "collapsed": true
   },
   "outputs": [],
   "source": [
    "import pandas as pd\n",
    "import re\n",
    "import numpy as np\n",
    "pd.set_option(\"display.max_columns\",101)"
   ]
  },
  {
   "cell_type": "code",
   "execution_count": 135,
   "metadata": {},
   "outputs": [],
   "source": [
    "data = pd.read_csv('test_ds.csv')"
   ]
  },
  {
   "cell_type": "code",
   "execution_count": 183,
   "metadata": {},
   "outputs": [
    {
     "data": {
      "text/html": [
       "<div>\n",
       "<style scoped>\n",
       "    .dataframe tbody tr th:only-of-type {\n",
       "        vertical-align: middle;\n",
       "    }\n",
       "\n",
       "    .dataframe tbody tr th {\n",
       "        vertical-align: top;\n",
       "    }\n",
       "\n",
       "    .dataframe thead th {\n",
       "        text-align: right;\n",
       "    }\n",
       "</style>\n",
       "<table border=\"1\" class=\"dataframe\">\n",
       "  <thead>\n",
       "    <tr style=\"text-align: right;\">\n",
       "      <th></th>\n",
       "      <th>additional_info</th>\n",
       "      <th>rb</th>\n",
       "      <th>name</th>\n",
       "      <th>id</th>\n",
       "      <th>summary_title</th>\n",
       "      <th>location</th>\n",
       "      <th>current_job_company</th>\n",
       "      <th>current_job_title</th>\n",
       "      <th>current_job_desc</th>\n",
       "      <th>current_job_duration</th>\n",
       "      <th>prev_job_company</th>\n",
       "      <th>prev_job_title</th>\n",
       "      <th>prev_job_desc</th>\n",
       "      <th>prev_job_duration</th>\n",
       "      <th>total_exp_durations</th>\n",
       "      <th>education1_title</th>\n",
       "      <th>education1_college</th>\n",
       "      <th>education1_duration</th>\n",
       "      <th>education2_title</th>\n",
       "      <th>education2_college</th>\n",
       "      <th>education2_duration</th>\n",
       "      <th>education3_title</th>\n",
       "      <th>education3_college</th>\n",
       "      <th>education3_duration</th>\n",
       "      <th>skils</th>\n",
       "      <th>links</th>\n",
       "      <th>certifications</th>\n",
       "      <th>awards</th>\n",
       "      <th>work_auth</th>\n",
       "      <th>current_job_duration_months</th>\n",
       "      <th>prev_job_duration_months</th>\n",
       "      <th>total_exp_durations_months</th>\n",
       "      <th>work_authp</th>\n",
       "      <th>prev_job_desc_clean</th>\n",
       "    </tr>\n",
       "  </thead>\n",
       "  <tbody>\n",
       "    <tr>\n",
       "      <th>0</th>\n",
       "      <td>['TECHNICAL SKILLS\\xa0', &lt;br/&gt;, '\\xa0', &lt;br/&gt;,...</td>\n",
       "      <td>NaN</td>\n",
       "      <td>Tracy-Ruan</td>\n",
       "      <td>c47f7ac095973653?sp=0</td>\n",
       "      <td>Data Scientist Intern</td>\n",
       "      <td>San Francisco, CA</td>\n",
       "      <td>NaN</td>\n",
       "      <td>Data Scientist Intern</td>\n",
       "      <td>['• Prepared customer behavior datasets for cl...</td>\n",
       "      <td>August 2017 to November 2017</td>\n",
       "      <td>NaN</td>\n",
       "      <td>Web Designer Assistant</td>\n",
       "      <td>['•       Maintained university website (HTML ...</td>\n",
       "      <td>September 2015 to January 2016</td>\n",
       "      <td>['August 2017 to November 2017', 'September 20...</td>\n",
       "      <td>B.S. in Data Science</td>\n",
       "      <td>University of San Francisco</td>\n",
       "      <td>January 2013 to May 2017</td>\n",
       "      <td>NaN</td>\n",
       "      <td>NaN</td>\n",
       "      <td>NaN</td>\n",
       "      <td>NaN</td>\n",
       "      <td>NaN</td>\n",
       "      <td>NaN</td>\n",
       "      <td>[['JAVASCRIPT (Less than 1 year)'], ['PYTHON (...</td>\n",
       "      <td>['https://github.com/tracyruan007']</td>\n",
       "      <td>[]</td>\n",
       "      <td>[]</td>\n",
       "      <td>Authorized to work in the US for any employer</td>\n",
       "      <td>3</td>\n",
       "      <td>4</td>\n",
       "      <td>8</td>\n",
       "      <td>1.0</td>\n",
       "      <td>[maintained, university, website, html, cs, in...</td>\n",
       "    </tr>\n",
       "    <tr>\n",
       "      <th>1</th>\n",
       "      <td>['TECHNICAL SKILLS:\\xa0', &lt;br/&gt;, 'Languages   ...</td>\n",
       "      <td>NaN</td>\n",
       "      <td>Sai-Nadimpalli</td>\n",
       "      <td>19e0d35744cc56a6?sp=0</td>\n",
       "      <td>Junior Data Scientist</td>\n",
       "      <td>Kansas City, MO</td>\n",
       "      <td>['Sprint Corporation']</td>\n",
       "      <td>Junior Data Scientist</td>\n",
       "      <td>['• Developed a Hybrid Recommendation System f...</td>\n",
       "      <td>May 2017 to August 2017</td>\n",
       "      <td>['IBM']</td>\n",
       "      <td>Software Development Engineer Intern</td>\n",
       "      <td>['• Developed Web and Android Applications for...</td>\n",
       "      <td>September 2015 to January 2016</td>\n",
       "      <td>['May 2017 to August 2017', 'September 2015 to...</td>\n",
       "      <td>Master of Science in Computer Science in Compu...</td>\n",
       "      <td>University of Missouri</td>\n",
       "      <td>May 2018</td>\n",
       "      <td>Technology</td>\n",
       "      <td>K L University</td>\n",
       "      <td>May 2016</td>\n",
       "      <td>NaN</td>\n",
       "      <td>NaN</td>\n",
       "      <td>NaN</td>\n",
       "      <td>[['C (Less than 1 year)'], ['CSS (Less than 1 ...</td>\n",
       "      <td>[]</td>\n",
       "      <td>[]</td>\n",
       "      <td>[]</td>\n",
       "      <td>NaN</td>\n",
       "      <td>3</td>\n",
       "      <td>4</td>\n",
       "      <td>7</td>\n",
       "      <td>NaN</td>\n",
       "      <td>[developed, web, android, application, ibm, bl...</td>\n",
       "    </tr>\n",
       "    <tr>\n",
       "      <th>2</th>\n",
       "      <td>['TECHNICAL SKILLS\\xa0', &lt;br/&gt;, '•   Proficien...</td>\n",
       "      <td>NaN</td>\n",
       "      <td>Nick-Shi</td>\n",
       "      <td>accfd33784428f69?sp=0</td>\n",
       "      <td>Data Scientist Intern</td>\n",
       "      <td>Malibu, CA</td>\n",
       "      <td>['MarketPsych Data']</td>\n",
       "      <td>Data Scientist Intern</td>\n",
       "      <td>['•   Manipulated and interpreted insights fro...</td>\n",
       "      <td>February 2018 to Present</td>\n",
       "      <td>NaN</td>\n",
       "      <td>Technical Consultant</td>\n",
       "      <td>['•   Manipulated 12 year historical option da...</td>\n",
       "      <td>January 2018 to Present</td>\n",
       "      <td>['February 2018 to Present', 'January 2018 to ...</td>\n",
       "      <td>Master of Science in Applied Finance</td>\n",
       "      <td>Pepperdine University, Graziadio School of Bus...</td>\n",
       "      <td>December 2017</td>\n",
       "      <td>Master of Science in Computing</td>\n",
       "      <td>Imperial College London</td>\n",
       "      <td>October 2016</td>\n",
       "      <td>Bachelor of Science in Software Engineering</td>\n",
       "      <td>The University of Nottingham, School of Comput...</td>\n",
       "      <td>July 2015</td>\n",
       "      <td>[['PYTHON (Less than 1 year)'], ['SQL (Less th...</td>\n",
       "      <td>['http://www.linkedin.com/in/nick-shi']</td>\n",
       "      <td>[]</td>\n",
       "      <td>[]</td>\n",
       "      <td>Sponsorship required to work in the US</td>\n",
       "      <td>1</td>\n",
       "      <td>2</td>\n",
       "      <td>12</td>\n",
       "      <td>0.0</td>\n",
       "      <td>[manipulated, 12, year, historical, option, da...</td>\n",
       "    </tr>\n",
       "    <tr>\n",
       "      <th>3</th>\n",
       "      <td>['TECHNICAL SKILLS\\xa0', &lt;br/&gt;, 'Relevant Cour...</td>\n",
       "      <td>NaN</td>\n",
       "      <td>Harsh-Mehta</td>\n",
       "      <td>2a4af24d87cca9cd?sp=0</td>\n",
       "      <td>Data Scientist</td>\n",
       "      <td>Bloomington, IN</td>\n",
       "      <td>['Indiana University']</td>\n",
       "      <td>Data Scientist</td>\n",
       "      <td>['• Implemented probabilistic character recogn...</td>\n",
       "      <td>November 2017 to November 2017</td>\n",
       "      <td>['University of Mumbai']</td>\n",
       "      <td>Data Analyst</td>\n",
       "      <td>['• Performed analysis of supermarket data by ...</td>\n",
       "      <td>June 2017 to June 2017</td>\n",
       "      <td>['November 2017 to November 2017', 'June 2017 ...</td>\n",
       "      <td>Master's in Data Science</td>\n",
       "      <td>Indiana University, School of Informatics</td>\n",
       "      <td>May 2019</td>\n",
       "      <td>Bachelor's in Information Technology</td>\n",
       "      <td>University of Mumbai</td>\n",
       "      <td>June 2017</td>\n",
       "      <td>NaN</td>\n",
       "      <td>NaN</td>\n",
       "      <td>NaN</td>\n",
       "      <td>[['APACHE HBASE (Less than 1 year)'], ['ARTIFI...</td>\n",
       "      <td>['http://github.com/humehta/Projects.git', 'ht...</td>\n",
       "      <td>[]</td>\n",
       "      <td>['TSEC Hall of Fame', 'TSEC Deparment Ambassad...</td>\n",
       "      <td>Authorized to work in the US for any employer</td>\n",
       "      <td>0</td>\n",
       "      <td>0</td>\n",
       "      <td>1</td>\n",
       "      <td>1.0</td>\n",
       "      <td>[performed, analysis, supermarket, data, loadi...</td>\n",
       "    </tr>\n",
       "    <tr>\n",
       "      <th>4</th>\n",
       "      <td>['SKILLS\\xa0', &lt;br/&gt;, '\\xa0', &lt;br/&gt;, 'SOFTWARE...</td>\n",
       "      <td>NaN</td>\n",
       "      <td>Daniel-Wu</td>\n",
       "      <td>246fa163d0b35d5b?sp=0</td>\n",
       "      <td>DATA SCIENTIST</td>\n",
       "      <td>Brooklyn, NY</td>\n",
       "      <td>['MAPSCorps']</td>\n",
       "      <td>DATA SCIENTIST</td>\n",
       "      <td>['Acted as a Chinese translator when collectin...</td>\n",
       "      <td>July 2016 to August 2016</td>\n",
       "      <td>['NEUROLOGY CLINIC FRONT DESK']</td>\n",
       "      <td>Front Desk</td>\n",
       "      <td>['• Translations from English to Chinese (Cant...</td>\n",
       "      <td>May 2016 to July 2016</td>\n",
       "      <td>['July 2016 to August 2016', 'May 2016 to July...</td>\n",
       "      <td>Engineering Computing and Problem Solving</td>\n",
       "      <td>Baruch College Campus High School</td>\n",
       "      <td>NaN</td>\n",
       "      <td>NaN</td>\n",
       "      <td>NaN</td>\n",
       "      <td>NaN</td>\n",
       "      <td>NaN</td>\n",
       "      <td>NaN</td>\n",
       "      <td>NaN</td>\n",
       "      <td>[['C++ (Less than 1 year)'], ['CREO (Less than...</td>\n",
       "      <td>[]</td>\n",
       "      <td>[]</td>\n",
       "      <td>[]</td>\n",
       "      <td>Authorized to work in the US for any employer</td>\n",
       "      <td>1</td>\n",
       "      <td>2</td>\n",
       "      <td>4</td>\n",
       "      <td>1.0</td>\n",
       "      <td>[translation, english, chinese, cantonesemanda...</td>\n",
       "    </tr>\n",
       "  </tbody>\n",
       "</table>\n",
       "</div>"
      ],
      "text/plain": [
       "                                     additional_info  rb            name  \\\n",
       "0  ['TECHNICAL SKILLS\\xa0', <br/>, '\\xa0', <br/>,... NaN      Tracy-Ruan   \n",
       "1  ['TECHNICAL SKILLS:\\xa0', <br/>, 'Languages   ... NaN  Sai-Nadimpalli   \n",
       "2  ['TECHNICAL SKILLS\\xa0', <br/>, '•   Proficien... NaN        Nick-Shi   \n",
       "3  ['TECHNICAL SKILLS\\xa0', <br/>, 'Relevant Cour... NaN     Harsh-Mehta   \n",
       "4  ['SKILLS\\xa0', <br/>, '\\xa0', <br/>, 'SOFTWARE... NaN       Daniel-Wu   \n",
       "\n",
       "                      id          summary_title           location  \\\n",
       "0  c47f7ac095973653?sp=0  Data Scientist Intern  San Francisco, CA   \n",
       "1  19e0d35744cc56a6?sp=0  Junior Data Scientist    Kansas City, MO   \n",
       "2  accfd33784428f69?sp=0  Data Scientist Intern         Malibu, CA   \n",
       "3  2a4af24d87cca9cd?sp=0         Data Scientist    Bloomington, IN   \n",
       "4  246fa163d0b35d5b?sp=0         DATA SCIENTIST       Brooklyn, NY   \n",
       "\n",
       "      current_job_company      current_job_title  \\\n",
       "0                     NaN  Data Scientist Intern   \n",
       "1  ['Sprint Corporation']  Junior Data Scientist   \n",
       "2    ['MarketPsych Data']  Data Scientist Intern   \n",
       "3  ['Indiana University']         Data Scientist   \n",
       "4           ['MAPSCorps']         DATA SCIENTIST   \n",
       "\n",
       "                                    current_job_desc  \\\n",
       "0  ['• Prepared customer behavior datasets for cl...   \n",
       "1  ['• Developed a Hybrid Recommendation System f...   \n",
       "2  ['•   Manipulated and interpreted insights fro...   \n",
       "3  ['• Implemented probabilistic character recogn...   \n",
       "4  ['Acted as a Chinese translator when collectin...   \n",
       "\n",
       "             current_job_duration                 prev_job_company  \\\n",
       "0    August 2017 to November 2017                              NaN   \n",
       "1         May 2017 to August 2017                          ['IBM']   \n",
       "2        February 2018 to Present                              NaN   \n",
       "3  November 2017 to November 2017         ['University of Mumbai']   \n",
       "4        July 2016 to August 2016  ['NEUROLOGY CLINIC FRONT DESK']   \n",
       "\n",
       "                         prev_job_title  \\\n",
       "0                Web Designer Assistant   \n",
       "1  Software Development Engineer Intern   \n",
       "2                  Technical Consultant   \n",
       "3                          Data Analyst   \n",
       "4                            Front Desk   \n",
       "\n",
       "                                       prev_job_desc  \\\n",
       "0  ['•       Maintained university website (HTML ...   \n",
       "1  ['• Developed Web and Android Applications for...   \n",
       "2  ['•   Manipulated 12 year historical option da...   \n",
       "3  ['• Performed analysis of supermarket data by ...   \n",
       "4  ['• Translations from English to Chinese (Cant...   \n",
       "\n",
       "                prev_job_duration  \\\n",
       "0  September 2015 to January 2016   \n",
       "1  September 2015 to January 2016   \n",
       "2         January 2018 to Present   \n",
       "3          June 2017 to June 2017   \n",
       "4           May 2016 to July 2016   \n",
       "\n",
       "                                 total_exp_durations  \\\n",
       "0  ['August 2017 to November 2017', 'September 20...   \n",
       "1  ['May 2017 to August 2017', 'September 2015 to...   \n",
       "2  ['February 2018 to Present', 'January 2018 to ...   \n",
       "3  ['November 2017 to November 2017', 'June 2017 ...   \n",
       "4  ['July 2016 to August 2016', 'May 2016 to July...   \n",
       "\n",
       "                                    education1_title  \\\n",
       "0                               B.S. in Data Science   \n",
       "1  Master of Science in Computer Science in Compu...   \n",
       "2               Master of Science in Applied Finance   \n",
       "3                           Master's in Data Science   \n",
       "4          Engineering Computing and Problem Solving   \n",
       "\n",
       "                                  education1_college  \\\n",
       "0                        University of San Francisco   \n",
       "1                             University of Missouri   \n",
       "2  Pepperdine University, Graziadio School of Bus...   \n",
       "3          Indiana University, School of Informatics   \n",
       "4                  Baruch College Campus High School   \n",
       "\n",
       "        education1_duration                      education2_title  \\\n",
       "0  January 2013 to May 2017                                   NaN   \n",
       "1                  May 2018                            Technology   \n",
       "2             December 2017        Master of Science in Computing   \n",
       "3                  May 2019  Bachelor's in Information Technology   \n",
       "4                       NaN                                   NaN   \n",
       "\n",
       "        education2_college education2_duration  \\\n",
       "0                      NaN                 NaN   \n",
       "1           K L University            May 2016   \n",
       "2  Imperial College London        October 2016   \n",
       "3     University of Mumbai           June 2017   \n",
       "4                      NaN                 NaN   \n",
       "\n",
       "                              education3_title  \\\n",
       "0                                          NaN   \n",
       "1                                          NaN   \n",
       "2  Bachelor of Science in Software Engineering   \n",
       "3                                          NaN   \n",
       "4                                          NaN   \n",
       "\n",
       "                                  education3_college education3_duration  \\\n",
       "0                                                NaN                 NaN   \n",
       "1                                                NaN                 NaN   \n",
       "2  The University of Nottingham, School of Comput...           July 2015   \n",
       "3                                                NaN                 NaN   \n",
       "4                                                NaN                 NaN   \n",
       "\n",
       "                                               skils  \\\n",
       "0  [['JAVASCRIPT (Less than 1 year)'], ['PYTHON (...   \n",
       "1  [['C (Less than 1 year)'], ['CSS (Less than 1 ...   \n",
       "2  [['PYTHON (Less than 1 year)'], ['SQL (Less th...   \n",
       "3  [['APACHE HBASE (Less than 1 year)'], ['ARTIFI...   \n",
       "4  [['C++ (Less than 1 year)'], ['CREO (Less than...   \n",
       "\n",
       "                                               links certifications  \\\n",
       "0                ['https://github.com/tracyruan007']             []   \n",
       "1                                                 []             []   \n",
       "2            ['http://www.linkedin.com/in/nick-shi']             []   \n",
       "3  ['http://github.com/humehta/Projects.git', 'ht...             []   \n",
       "4                                                 []             []   \n",
       "\n",
       "                                              awards  \\\n",
       "0                                                 []   \n",
       "1                                                 []   \n",
       "2                                                 []   \n",
       "3  ['TSEC Hall of Fame', 'TSEC Deparment Ambassad...   \n",
       "4                                                 []   \n",
       "\n",
       "                                       work_auth  current_job_duration_months  \\\n",
       "0  Authorized to work in the US for any employer                            3   \n",
       "1                                            NaN                            3   \n",
       "2         Sponsorship required to work in the US                            1   \n",
       "3  Authorized to work in the US for any employer                            0   \n",
       "4  Authorized to work in the US for any employer                            1   \n",
       "\n",
       "   prev_job_duration_months  total_exp_durations_months  work_authp  \\\n",
       "0                         4                           8         1.0   \n",
       "1                         4                           7         NaN   \n",
       "2                         2                          12         0.0   \n",
       "3                         0                           1         1.0   \n",
       "4                         2                           4         1.0   \n",
       "\n",
       "                                 prev_job_desc_clean  \n",
       "0  [maintained, university, website, html, cs, in...  \n",
       "1  [developed, web, android, application, ibm, bl...  \n",
       "2  [manipulated, 12, year, historical, option, da...  \n",
       "3  [performed, analysis, supermarket, data, loadi...  \n",
       "4  [translation, english, chinese, cantonesemanda...  "
      ]
     },
     "execution_count": 183,
     "metadata": {},
     "output_type": "execute_result"
    }
   ],
   "source": [
    "data.head()"
   ]
  },
  {
   "cell_type": "markdown",
   "metadata": {},
   "source": [
    "### Fill NA values"
   ]
  },
  {
   "cell_type": "code",
   "execution_count": 137,
   "metadata": {},
   "outputs": [],
   "source": [
    "data['current_job_duration']=data.current_job_duration.fillna(0)\n",
    "data['prev_job_duration']=data.prev_job_duration.fillna(0)\n",
    "data['total_exp_durations']=data.total_exp_durations.fillna(0)"
   ]
  },
  {
   "cell_type": "markdown",
   "metadata": {
    "collapsed": true
   },
   "source": [
    "### Convert dates in duration"
   ]
  },
  {
   "cell_type": "code",
   "execution_count": 139,
   "metadata": {},
   "outputs": [],
   "source": [
    "months = {'January' : 1,'February' : 2, 'March':3, \"April\":4, 'May':5, 'June':6, 'July':7, 'August':8, 'September':9, 'October':10, 'November':11, 'December':12}\n",
    "def convert_dates(date_string):\n",
    "    if date_string == 0:\n",
    "        return 0\n",
    "    try:\n",
    "        from_, to_ = date_string.split(' to ')\n",
    "        if len(from_.split(' '))==1:\n",
    "            from_ = 'July '+from_\n",
    "        from_month, from_year = from_.split(' ')\n",
    "        if to_.strip() == 'Present':\n",
    "            to_ = 'March 2018'\n",
    "\n",
    "        if len(to_.split(' '))==1:\n",
    "            to_ = 'July '+to_\n",
    "        to_month, to_year = to_.split(' ')\n",
    "        return (int(to_year)-int(from_year))*12 + months[to_month]- months[from_month]\n",
    "    except:\n",
    "        return 0\n",
    "\n",
    "def get_total_exp(exp_str):\n",
    "    exp_list=[]\n",
    "    if exp_str ==0:\n",
    "        return 0\n",
    "    try:\n",
    "        exp_list = exp_str.replace('[','').replace(']','').replace(\"'\",'').split(',')\n",
    "    except:\n",
    "        return 0\n",
    "    if exp_list is None:\n",
    "        return 0\n",
    "    exp=0\n",
    "    try:\n",
    "        for x in exp_list:\n",
    "            exp = exp + convert_dates(x.strip())\n",
    "        return exp\n",
    "    except:\n",
    "        return exp\n",
    "    "
   ]
  },
  {
   "cell_type": "code",
   "execution_count": 140,
   "metadata": {},
   "outputs": [],
   "source": [
    "data['current_job_duration_months']= data.current_job_duration.apply(convert_dates)\n",
    "data['prev_job_duration_months']= data.prev_job_duration.apply(convert_dates)\n",
    "data['total_exp_durations_months'] = data.total_exp_durations.apply(get_total_exp)"
   ]
  },
  {
   "cell_type": "code",
   "execution_count": 144,
   "metadata": {},
   "outputs": [
    {
     "data": {
      "text/plain": [
       "array(['Authorized to work in the US for any employer', nan,\n",
       "       'Sponsorship required to work in the US'], dtype=object)"
      ]
     },
     "execution_count": 144,
     "metadata": {},
     "output_type": "execute_result"
    }
   ],
   "source": [
    "data.work_auth.unique()"
   ]
  },
  {
   "cell_type": "markdown",
   "metadata": {},
   "source": [
    "#### Work Authorization"
   ]
  },
  {
   "cell_type": "code",
   "execution_count": 154,
   "metadata": {},
   "outputs": [],
   "source": [
    "def process_work_auth(x):\n",
    "    if 'Authorized' in str(x):\n",
    "        return 1\n",
    "    elif 'Sponsorship' in str(x):\n",
    "        return 0\n",
    "    else:\n",
    "        return None"
   ]
  },
  {
   "cell_type": "code",
   "execution_count": 155,
   "metadata": {},
   "outputs": [],
   "source": [
    "data['work_authp'] = data.work_auth.apply(process_work_auth)"
   ]
  },
  {
   "cell_type": "code",
   "execution_count": null,
   "metadata": {},
   "outputs": [],
   "source": []
  },
  {
   "cell_type": "markdown",
   "metadata": {},
   "source": [
    "### LDA for previous work title"
   ]
  },
  {
   "cell_type": "code",
   "execution_count": 166,
   "metadata": {
    "collapsed": true
   },
   "outputs": [],
   "source": [
    "from nltk.corpus import stopwords \n",
    "from nltk.stem.wordnet import WordNetLemmatizer"
   ]
  },
  {
   "cell_type": "code",
   "execution_count": 167,
   "metadata": {
    "collapsed": true
   },
   "outputs": [],
   "source": [
    "import string\n",
    "stop = set(stopwords.words('english'))\n",
    "exclude = set(string.punctuation) \n",
    "lemma = WordNetLemmatizer()"
   ]
  },
  {
   "cell_type": "code",
   "execution_count": 250,
   "metadata": {
    "collapsed": true
   },
   "outputs": [],
   "source": [
    "def clean(doc):\n",
    "    doc = re.sub('<br/>', '',str(doc))\n",
    "    doc = re.sub('\\\\xa0', '', doc)\n",
    "    doc= re.sub('[^A-Za-z0-9\\ ]+', '', doc)\n",
    "    stop_free = \" \".join([i for i in doc.lower().split() if i not in stop])\n",
    "    punc_free = ''.join(ch for ch in stop_free if ch not in exclude)\n",
    "    normalized = \" \".join(lemma.lemmatize(word) for word in punc_free.split())\n",
    "    return normalized.split()"
   ]
  },
  {
   "cell_type": "code",
   "execution_count": 251,
   "metadata": {},
   "outputs": [],
   "source": [
    "doc_clean= data.prev_job_desc.apply(clean)"
   ]
  },
  {
   "cell_type": "code",
   "execution_count": null,
   "metadata": {},
   "outputs": [],
   "source": []
  },
  {
   "cell_type": "code",
   "execution_count": 252,
   "metadata": {},
   "outputs": [],
   "source": [
    "import gensim\n",
    "from gensim import corpora"
   ]
  },
  {
   "cell_type": "code",
   "execution_count": 254,
   "metadata": {},
   "outputs": [],
   "source": [
    "dictionary = corpora.Dictionary(doc_clean)"
   ]
  },
  {
   "cell_type": "code",
   "execution_count": 255,
   "metadata": {},
   "outputs": [],
   "source": [
    "doc_term_matrix = [dictionary.doc2bow(doc) for doc in doc_clean]"
   ]
  },
  {
   "cell_type": "code",
   "execution_count": 256,
   "metadata": {},
   "outputs": [],
   "source": [
    "Lda= gensim.models.ldamodel.LdaModel"
   ]
  },
  {
   "cell_type": "code",
   "execution_count": 257,
   "metadata": {},
   "outputs": [],
   "source": [
    "def get_coherence(model):\n",
    "    coh=0\n",
    "    for x in model:\n",
    "        coh+=x[1]\n",
    "    return coh/len(model)\n",
    "#get_coherence(ldamodel.top_topics(texts=doc_clean))"
   ]
  },
  {
   "cell_type": "code",
   "execution_count": 258,
   "metadata": {},
   "outputs": [],
   "source": [
    "ldamodel = Lda(doc_term_matrix, num_topics=9, id2word = dictionary, passes=100)\n",
    "this_coh = get_coherence(ldamodel.top_topics(texts=doc_clean))"
   ]
  },
  {
   "cell_type": "code",
   "execution_count": 406,
   "metadata": {
    "scrolled": true
   },
   "outputs": [],
   "source": [
    "data.to_csv('data_clean_1.csv',index=False)"
   ]
  },
  {
   "cell_type": "code",
   "execution_count": null,
   "metadata": {},
   "outputs": [],
   "source": []
  },
  {
   "cell_type": "code",
   "execution_count": 298,
   "metadata": {},
   "outputs": [],
   "source": [
    "def clean_titles(doc):\n",
    "    doc = re.sub('[^A-Za-z0-9\\ ]+', '',str(doc).lower())\n",
    "    return doc"
   ]
  },
  {
   "cell_type": "code",
   "execution_count": 299,
   "metadata": {},
   "outputs": [],
   "source": [
    "title_list = []\n",
    "for i in data.prev_job_title.apply(clean_titles):\n",
    "    title_list = title_list + i.split()\n",
    "    \n",
    "df_keys= pd.DataFrame({'keyword':title_list})"
   ]
  },
  {
   "cell_type": "code",
   "execution_count": 374,
   "metadata": {
    "scrolled": true
   },
   "outputs": [
    {
     "data": {
      "text/plain": [
       "quantitative     82\n",
       "statistician     80\n",
       "founder          79\n",
       "vice             79\n",
       "information      78\n",
       "clinical         78\n",
       "in               78\n",
       "quality          77\n",
       "cofounder        73\n",
       "contractor       73\n",
       "database         72\n",
       "head             71\n",
       "staff            70\n",
       "ii               69\n",
       "summer           69\n",
       "member           68\n",
       "risk             64\n",
       "analysis         64\n",
       "department       64\n",
       "financial        64\n",
       "web              62\n",
       "hadoop           61\n",
       "leader           60\n",
       "system           59\n",
       "solutions        59\n",
       "coordinator      59\n",
       "internship       59\n",
       "officer          59\n",
       "tutor            58\n",
       "customer         58\n",
       "administrator    58\n",
       "independent      57\n",
       "application      57\n",
       "consulting       56\n",
       "strategy         56\n",
       "services         54\n",
       "market           53\n",
       "teacher          51\n",
       "bi               51\n",
       "lecturer         50\n",
       "modeling         50\n",
       "account          49\n",
       "executive        48\n",
       "process          47\n",
       "technician       47\n",
       "design           44\n",
       "digital          44\n",
       "lab              43\n",
       "enterprise       43\n",
       "the              43\n",
       "global           43\n",
       "advisor          42\n",
       "owner            42\n",
       "security         40\n",
       "advanced         40\n",
       "talent           39\n",
       "mathematics      39\n",
       "service          38\n",
       "at               38\n",
       "partner          37\n",
       "Name: keyword, dtype: int64"
      ]
     },
     "execution_count": 374,
     "metadata": {},
     "output_type": "execute_result"
    }
   ],
   "source": [
    "df_keys.keyword.value_counts()[60:120]"
   ]
  },
  {
   "cell_type": "code",
   "execution_count": 401,
   "metadata": {},
   "outputs": [],
   "source": [
    "def get_job_cat(doc):\n",
    "    doc = clean_titles(doc)\n",
    "    if doc is None:\n",
    "        return 'Others'\n",
    "    #Student:\n",
    "    if 'lab' in doc or 'internship' in doc or'intern' in doc or 'student' in doc or 'teaching' in doc or 'graduate' in doc or 'summer' in doc or 'research' in doc:\n",
    "        return 'Student'\n",
    "    if 'machine' in doc or 'learning' in doc:\n",
    "        return 'Data Scientist'\n",
    "    if 'data' in doc and 'scientist' in doc:\n",
    "        return 'Data Scientist'\n",
    "    if 'data' in doc and 'researcher' in doc:\n",
    "        return 'Data Scientist'\n",
    "    if 'data' in doc and 'research' in doc:\n",
    "        return 'Data Scientist'\n",
    "    if 'science' in doc:\n",
    "        return 'Data Scientist'\n",
    "    if 'database' in doc or 'sql' in doc:\n",
    "        return 'Data Analyst'\n",
    "    if 'analyst' in doc or 'analytics' in 'doc' or 'analysis' in doc:\n",
    "        if 'data' in doc:\n",
    "            return 'Data Analyst'\n",
    "        else:\n",
    "            return 'Business Analyst'\n",
    "    if 'postdoctoral' in doc or 'fellow' in doc or 'ph.d' in doc or 'phd' in doc:\n",
    "        return 'Data Scientist'\n",
    "    if 'data' in doc:\n",
    "        return 'Data Analyst'\n",
    "    if 'marketing' in doc or 'risk' in doc or 'financial' in doc or 'market' in doc:\n",
    "        return 'Business Analyst'\n",
    "    if 'business' in doc:\n",
    "        return 'Business Analyst'\n",
    "    if 'systems' in doc or 'system' in doc:\n",
    "        return 'Software Engg' \n",
    "    if 'big' in doc or 'hadoop' in doc:\n",
    "        return 'Data Scientist'\n",
    "    if 'big' in doc or 'statistical' in doc or 'statistics' in doc or 'statistician' in doc:\n",
    "        return 'Data Scientist'\n",
    "    if 'software' in doc or 'developer' in doc or 'development' in doc or 'architect' in doc or 'development' in doc:\n",
    "        return 'Software Engg'\n",
    "    if 'engineering' in doc or 'programmer' in doc or 'technology' in doc or 'web' in doc:\n",
    "        return 'Software Engg'\n",
    "    if 'consulting' in doc or 'consultant' in doc or 'manager' in doc or 'project' in doc or 'product' in doc or 'management' in doc or 'director' in doc:\n",
    "        return 'Project Manager'\n",
    "    else:\n",
    "        return 'Others'"
   ]
  },
  {
   "cell_type": "code",
   "execution_count": 397,
   "metadata": {},
   "outputs": [
    {
     "data": {
      "text/plain": [
       "'Student'"
      ]
     },
     "execution_count": 397,
     "metadata": {},
     "output_type": "execute_result"
    }
   ],
   "source": [
    "get_job_cat('Software Development Engineer Intern')"
   ]
  },
  {
   "cell_type": "code",
   "execution_count": 402,
   "metadata": {},
   "outputs": [],
   "source": [
    "data['prev_job_title_cats'] = data.prev_job_title.apply(get_job_cat)"
   ]
  },
  {
   "cell_type": "code",
   "execution_count": 260,
   "metadata": {},
   "outputs": [
    {
     "data": {
      "text/plain": [
       "[(0,\n",
       "  '0.020*\"data\" + 0.017*\"system\" + 0.011*\"application\" + 0.011*\"database\" + 0.011*\"using\" + 0.010*\"xa0\" + 0.010*\"sql\" + 0.009*\"server\" + 0.009*\"design\" + 0.008*\"project\"'),\n",
       " (1,\n",
       "  '0.018*\"research\" + 0.013*\"nan\" + 0.013*\"analysis\" + 0.013*\"student\" + 0.009*\"xa0\" + 0.009*\"developed\" + 0.008*\"course\" + 0.007*\"method\" + 0.006*\"simulation\" + 0.006*\"statistical\"'),\n",
       " (2,\n",
       "  '0.055*\"data\" + 0.023*\"hadoop\" + 0.021*\"using\" + 0.019*\"hive\" + 0.016*\"spark\" + 0.010*\"hdfs\" + 0.009*\"aws\" + 0.009*\"worked\" + 0.009*\"pig\" + 0.009*\"big\"'),\n",
       " (3,\n",
       "  '0.015*\"risk\" + 0.011*\"project\" + 0.010*\"health\" + 0.010*\"management\" + 0.010*\"clinical\" + 0.007*\"system\" + 0.006*\"study\" + 0.006*\"patient\" + 0.005*\"medical\" + 0.005*\"credit\"'),\n",
       " (4,\n",
       "  '0.010*\"trading\" + 0.009*\"sqoop\" + 0.009*\"stock\" + 0.007*\"cassandra\" + 0.006*\"time\" + 0.006*\"trade\" + 0.005*\"built\" + 0.005*\"price\" + 0.004*\"million\" + 0.004*\"strategy\"'),\n",
       " (5,\n",
       "  '0.063*\"data\" + 0.027*\"using\" + 0.027*\"model\" + 0.020*\"analysis\" + 0.012*\"r\" + 0.010*\"python\" + 0.010*\"machine\" + 0.010*\"learning\" + 0.009*\"used\" + 0.009*\"statistical\"'),\n",
       " (6,\n",
       "  '0.015*\"xa0\" + 0.011*\"engineer\" + 0.009*\"manager\" + 0.009*\"candidate\" + 0.007*\"recruiting\" + 0.006*\"hiring\" + 0.005*\"position\" + 0.005*\"job\" + 0.005*\"software\" + 0.004*\"full\"'),\n",
       " (7,\n",
       "  '0.015*\"algorithm\" + 0.014*\"xa0\" + 0.013*\"network\" + 0.012*\"using\" + 0.012*\"learning\" + 0.012*\"based\" + 0.011*\"developed\" + 0.011*\"user\" + 0.010*\"machine\" + 0.010*\"system\"'),\n",
       " (8,\n",
       "  '0.019*\"data\" + 0.015*\"team\" + 0.014*\"business\" + 0.010*\"product\" + 0.010*\"project\" + 0.010*\"customer\" + 0.009*\"client\" + 0.008*\"xa0\" + 0.007*\"new\" + 0.007*\"management\"')]"
      ]
     },
     "execution_count": 260,
     "metadata": {},
     "output_type": "execute_result"
    }
   ],
   "source": [
    "ldamodel.print_topics(num_topics=15)"
   ]
  },
  {
   "cell_type": "code",
   "execution_count": 261,
   "metadata": {
    "collapsed": true
   },
   "outputs": [],
   "source": [
    "prev_job_type_dict= {0:'Sql Analyst', 1: 'Research Student', 2: 'Big Data', 3: 'Other', 4:'Other', 5:'Machine Learning', 6:'Softwre engineer', 7:'Machine Learning',8:'Product Manager'}"
   ]
  },
  {
   "cell_type": "code",
   "execution_count": 267,
   "metadata": {},
   "outputs": [
    {
     "data": {
      "text/plain": [
       "[(0, 0.28887993), (4, 0.2697291), (5, 0.3683205), (8, 0.060438965)]"
      ]
     },
     "execution_count": 267,
     "metadata": {},
     "output_type": "execute_result"
    }
   ],
   "source": [
    "ldamodel.get_document_topics(dictionary.doc2bow(data.prev_job_desc_clean.iloc[2]))"
   ]
  },
  {
   "cell_type": "code",
   "execution_count": null,
   "metadata": {
    "collapsed": true
   },
   "outputs": [],
   "source": []
  }
 ],
 "metadata": {
  "kernelspec": {
   "display_name": "Python 3",
   "language": "python",
   "name": "python3"
  },
  "language_info": {
   "codemirror_mode": {
    "name": "ipython",
    "version": 3
   },
   "file_extension": ".py",
   "mimetype": "text/x-python",
   "name": "python",
   "nbconvert_exporter": "python",
   "pygments_lexer": "ipython3",
   "version": "3.6.2"
  }
 },
 "nbformat": 4,
 "nbformat_minor": 2
}
