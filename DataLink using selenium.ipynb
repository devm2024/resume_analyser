{
 "cells": [
  {
   "cell_type": "code",
   "execution_count": 66,
   "metadata": {},
   "outputs": [],
   "source": [
    "import time\n",
    "from selenium import webdriver\n",
    "from login import login\n",
    "import numpy as np"
   ]
  },
  {
   "cell_type": "code",
   "execution_count": 69,
   "metadata": {},
   "outputs": [],
   "source": [
    "def get_num_pages():\n",
    "    url = f\"https://www.indeed.com/resumes?q=%22data+scientist%22&l=San+Francisco%2C+CA&co=US&radius=100&lmd=all\"\n",
    "    driver.get(url)\n",
    "    result_cnt = driver.find_element_by_id('result_count')\n",
    "    result_cnt = int(result_cnt.text.split(' ')[0].replace(',',''))\n",
    "    pagenum = np.array(range(round(result_cnt/50)))*50\n",
    "    return pagenum"
   ]
  },
  {
   "cell_type": "code",
   "execution_count": 73,
   "metadata": {},
   "outputs": [],
   "source": [
    "driver = webdriver.Chrome('/usr/local/bin/chromedriver')\n",
    "pagenum = get_num_pages()\n",
    "title =[]\n",
    "for num in pagenum:\n",
    "    url = f\"https://www.indeed.com/resumes?q=%22data+scientist%22&l=San+Francisco%2C+CA&co=US&radius=100&lmd=all&start={num}\"\n",
    "    driver.get(url)\n",
    "    results = driver.find_elements_by_xpath('//div[@class=\"app_name\"]')\n",
    "    for result in results:\n",
    "        tag = result.find_element_by_xpath('./a')\n",
    "        title.append(tag.get_attribute('href'))"
   ]
  },
  {
   "cell_type": "code",
   "execution_count": null,
   "metadata": {},
   "outputs": [],
   "source": [
    "https://www.indeed.com/resumes?q=%22data+scientist%22&l=San+Francisco%2C+CA&co=US&radius=100&lmd=all&start=950"
   ]
  }
 ],
 "metadata": {
  "kernelspec": {
   "display_name": "Python 3",
   "language": "python",
   "name": "python3"
  },
  "language_info": {
   "codemirror_mode": {
    "name": "ipython",
    "version": 3
   },
   "file_extension": ".py",
   "mimetype": "text/x-python",
   "name": "python",
   "nbconvert_exporter": "python",
   "pygments_lexer": "ipython3",
   "version": "3.6.3"
  },
  "latex_envs": {
   "LaTeX_envs_menu_present": true,
   "autocomplete": true,
   "bibliofile": "biblio.bib",
   "cite_by": "apalike",
   "current_citInitial": 1,
   "eqLabelWithNumbers": true,
   "eqNumInitial": 1,
   "hotkeys": {
    "equation": "Ctrl-E",
    "itemize": "Ctrl-I"
   },
   "labels_anchors": false,
   "latex_user_defs": false,
   "report_style_numbering": false,
   "user_envs_cfg": false
  },
  "varInspector": {
   "cols": {
    "lenName": 16,
    "lenType": 16,
    "lenVar": 40
   },
   "kernels_config": {
    "python": {
     "delete_cmd_postfix": "",
     "delete_cmd_prefix": "del ",
     "library": "var_list.py",
     "varRefreshCmd": "print(var_dic_list())"
    },
    "r": {
     "delete_cmd_postfix": ") ",
     "delete_cmd_prefix": "rm(",
     "library": "var_list.r",
     "varRefreshCmd": "cat(var_dic_list()) "
    }
   },
   "types_to_exclude": [
    "module",
    "function",
    "builtin_function_or_method",
    "instance",
    "_Feature"
   ],
   "window_display": false
  }
 },
 "nbformat": 4,
 "nbformat_minor": 2
}
